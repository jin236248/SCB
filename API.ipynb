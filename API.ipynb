{
 "cells": [
  {
   "cell_type": "code",
   "execution_count": 3,
   "metadata": {},
   "outputs": [
    {
     "name": "stdout",
     "output_type": "stream",
     "text": [
      "Collecting assemblyai\n",
      "  Downloading assemblyai-0.11.0-py3-none-any.whl (57 kB)\n",
      "                                              0.0/57.8 kB ? eta -:--:--\n",
      "     -----------------------------------      51.2/57.8 kB 1.3 MB/s eta 0:00:01\n",
      "     ---------------------------------------- 57.8/57.8 kB 1.0 MB/s eta 0:00:00\n",
      "Collecting httpx>=0.19.0 (from assemblyai)\n",
      "  Downloading httpx-0.24.1-py3-none-any.whl (75 kB)\n",
      "                                              0.0/75.4 kB ? eta -:--:--\n",
      "     ---------------------------------------- 75.4/75.4 kB 4.1 MB/s eta 0:00:00\n",
      "Collecting pydantic>=1.7.0 (from assemblyai)\n",
      "  Downloading pydantic-1.10.9-cp311-cp311-win_amd64.whl (2.1 MB)\n",
      "                                              0.0/2.1 MB ? eta -:--:--\n",
      "     -------                                  0.4/2.1 MB 12.2 MB/s eta 0:00:01\n",
      "     ------------------------                 1.3/2.1 MB 16.5 MB/s eta 0:00:01\n",
      "     ---------------------------------------- 2.1/2.1 MB 19.0 MB/s eta 0:00:00\n",
      "Collecting typing-extensions<4.6,>=3.7 (from assemblyai)\n",
      "  Using cached typing_extensions-4.5.0-py3-none-any.whl (27 kB)\n",
      "Collecting websockets>=11.0 (from assemblyai)\n",
      "  Downloading websockets-11.0.3-cp311-cp311-win_amd64.whl (124 kB)\n",
      "                                              0.0/124.7 kB ? eta -:--:--\n",
      "     -------------------------------------- 124.7/124.7 kB 7.2 MB/s eta 0:00:00\n",
      "Requirement already satisfied: certifi in c:\\users\\jin23\\.conda\\envs\\scb\\lib\\site-packages (from httpx>=0.19.0->assemblyai) (2023.5.7)\n",
      "Collecting httpcore<0.18.0,>=0.15.0 (from httpx>=0.19.0->assemblyai)\n",
      "  Downloading httpcore-0.17.2-py3-none-any.whl (72 kB)\n",
      "                                              0.0/72.5 kB ? eta -:--:--\n",
      "     ---------------------------------------- 72.5/72.5 kB ? eta 0:00:00\n",
      "Requirement already satisfied: idna in c:\\users\\jin23\\.conda\\envs\\scb\\lib\\site-packages (from httpx>=0.19.0->assemblyai) (3.4)\n",
      "Collecting sniffio (from httpx>=0.19.0->assemblyai)\n",
      "  Using cached sniffio-1.3.0-py3-none-any.whl (10 kB)\n",
      "Collecting h11<0.15,>=0.13 (from httpcore<0.18.0,>=0.15.0->httpx>=0.19.0->assemblyai)\n",
      "  Using cached h11-0.14.0-py3-none-any.whl (58 kB)\n",
      "Collecting anyio<5.0,>=3.0 (from httpcore<0.18.0,>=0.15.0->httpx>=0.19.0->assemblyai)\n",
      "  Downloading anyio-3.7.0-py3-none-any.whl (80 kB)\n",
      "                                              0.0/80.9 kB ? eta -:--:--\n",
      "     ---------------------------------------- 80.9/80.9 kB ? eta 0:00:00\n",
      "Installing collected packages: websockets, typing-extensions, sniffio, h11, pydantic, anyio, httpcore, httpx, assemblyai\n",
      "  Attempting uninstall: typing-extensions\n",
      "    Found existing installation: typing_extensions 4.6.3\n",
      "    Uninstalling typing_extensions-4.6.3:\n",
      "      Successfully uninstalled typing_extensions-4.6.3\n",
      "Successfully installed anyio-3.7.0 assemblyai-0.11.0 h11-0.14.0 httpcore-0.17.2 httpx-0.24.1 pydantic-1.10.9 sniffio-1.3.0 typing-extensions-4.5.0 websockets-11.0.3\n"
     ]
    }
   ],
   "source": [
    "! pip3 install assemblyai"
   ]
  },
  {
   "cell_type": "code",
   "execution_count": 5,
   "metadata": {},
   "outputs": [
    {
     "name": "stdout",
     "output_type": "stream",
     "text": [
      "Requirement already satisfied: assemblyai[extras] in c:\\users\\jin23\\.conda\\envs\\scb\\lib\\site-packages (0.11.0)Note: you may need to restart the kernel to use updated packages.\n",
      "\n",
      "Requirement already satisfied: httpx>=0.19.0 in c:\\users\\jin23\\.conda\\envs\\scb\\lib\\site-packages (from assemblyai[extras]) (0.24.1)\n",
      "Requirement already satisfied: pydantic>=1.7.0 in c:\\users\\jin23\\.conda\\envs\\scb\\lib\\site-packages (from assemblyai[extras]) (1.10.9)\n",
      "Requirement already satisfied: typing-extensions<4.6,>=3.7 in c:\\users\\jin23\\.conda\\envs\\scb\\lib\\site-packages (from assemblyai[extras]) (4.5.0)\n",
      "Requirement already satisfied: websockets>=11.0 in c:\\users\\jin23\\.conda\\envs\\scb\\lib\\site-packages (from assemblyai[extras]) (11.0.3)\n",
      "Collecting pyaudio>=0.2.13 (from assemblyai[extras])\n",
      "  Downloading PyAudio-0.2.13-cp311-cp311-win_amd64.whl (164 kB)\n",
      "                                              0.0/164.1 kB ? eta -:--:--\n",
      "     --                                       10.2/164.1 kB ? eta -:--:--\n",
      "     ----------------                      71.7/164.1 kB 787.7 kB/s eta 0:00:01\n",
      "     -------------------------------------- 164.1/164.1 kB 1.4 MB/s eta 0:00:00\n",
      "Requirement already satisfied: certifi in c:\\users\\jin23\\.conda\\envs\\scb\\lib\\site-packages (from httpx>=0.19.0->assemblyai[extras]) (2023.5.7)\n",
      "Requirement already satisfied: httpcore<0.18.0,>=0.15.0 in c:\\users\\jin23\\.conda\\envs\\scb\\lib\\site-packages (from httpx>=0.19.0->assemblyai[extras]) (0.17.2)\n",
      "Requirement already satisfied: idna in c:\\users\\jin23\\.conda\\envs\\scb\\lib\\site-packages (from httpx>=0.19.0->assemblyai[extras]) (3.4)\n",
      "Requirement already satisfied: sniffio in c:\\users\\jin23\\.conda\\envs\\scb\\lib\\site-packages (from httpx>=0.19.0->assemblyai[extras]) (1.3.0)\n",
      "Requirement already satisfied: h11<0.15,>=0.13 in c:\\users\\jin23\\.conda\\envs\\scb\\lib\\site-packages (from httpcore<0.18.0,>=0.15.0->httpx>=0.19.0->assemblyai[extras]) (0.14.0)\n",
      "Requirement already satisfied: anyio<5.0,>=3.0 in c:\\users\\jin23\\.conda\\envs\\scb\\lib\\site-packages (from httpcore<0.18.0,>=0.15.0->httpx>=0.19.0->assemblyai[extras]) (3.7.0)\n",
      "Installing collected packages: pyaudio\n",
      "Successfully installed pyaudio-0.2.13\n"
     ]
    }
   ],
   "source": [
    "pip install assemblyai[extras]"
   ]
  },
  {
   "cell_type": "code",
   "execution_count": 6,
   "metadata": {},
   "outputs": [
    {
     "name": "stdout",
     "output_type": "stream",
     "text": [
      "I'm David Curley at the Smithsonian Aaron Space Museum, where we are marking 50 years since man landed and walked on the moon in a lander just like this one. We are going to show you some of the actual ABC News coverage from 50 years ago during that eight day mission of this remarkable achievement, apollo Eleven s lander, the Eagle, would be the first man craft to land on the moon. For training, NASA came with an unusual contraption. Neil Armstrong actually had to eject from it once, and then he had a couple of successful flights. ABC News Anchor at the time, 50 years ago, frank Reynolds with a look at that unusual trainer. Apollo Eleven commander Neil Armstrong is at the controls of a lunar landing training vehicle, testing the reaction control jets, these thrusters stabilize the Lem during landing and takeoff. The Ll T V is designed to simulate the behavior of the Lem as it lands in the moon's gravity. Lunar gravity is one 6th that of the Earth's. Neil Armstrong flew one of these vehicles on May 6, 1968, and that flight was nearly his last. Later reports by a NASA investigating team said the crash, which we'll see soon, was caused by a loss of fuel pressure, compounded by a warning light that failed to work. Armstrong's coolness under pressure saved himself and possibly months of delay for the Apollo program. Later that same year, 1968, another test pilot, Joseph Allegranti, also escaped from an Ll TV just before it crashed. The training vehicle then underwent several design modifications and improvements. Engineers had to increase the vehicle's rocket power to help stabilize the craft. That made the LLTV less of a moon gravity simulator, but it improved pilot safety. On June 16, 1969, neil Armstrong flew the vehicle, sometimes called the Flying Bedstead, to several perfect landings. Question was, how does the machine fly? And the answer is that we're very pleased with the way it flies. It's a significant improvement over the LLRV, which we were flying here a year ago. And I think it does an excellent job of actually capturing the handling characteristics of the lunar module in landing maneuver. It's really a great deal different than any other kind of aircraft that I've ever flown. It's the the simulation of lunar gravity has some aspects that make this type of flight sufficiently different from anything else we've ever done to make this vehicle very worthwhile. And I'm very pleased that I had the opportunity to get some flights in it here. Just before the Apollo Eleven flight.\n"
     ]
    }
   ],
   "source": [
    "import assemblyai as aai\n",
    "\n",
    "aai.settings.api_key = \"1e9bb82d37a54a239a373d98afa0ada2\"\n",
    "transcriber = aai.Transcriber()\n",
    "\n",
    "transcript = transcriber.transcribe(\"https://storage.googleapis.com/aai-web-samples/news.mp4\")\n",
    "# transcript = transcriber.transcribe(\"./my-local-audio-file.wav\")\n",
    "\n",
    "print(transcript.text)"
   ]
  },
  {
   "cell_type": "code",
   "execution_count": null,
   "metadata": {},
   "outputs": [],
   "source": [
    "import requests\n",
    "import json\n",
    "import time\n",
    "\n",
    "# replace with your API token\n",
    "YOUR_API_TOKEN = \"<YOUR_API_TOKEN>\"\n",
    "\n",
    "# URL of the file to transcribe\n",
    "FILE_URL = \"https://github.com/AssemblyAI-Examples/audio-examples/raw/main/20230607_me_canadian_wildfires.mp3\"\n",
    "\n",
    "# AssemblyAI transcript endpoint (where we submit the file)\n",
    "transcript_endpoint = \"https://api.assemblyai.com/v2/transcript\"\n",
    "\n",
    "# request parameters where Summarization has been enabled\n",
    "data = {\n",
    "  \"audio_url\": FILE_URL,\n",
    "  \"summarization\": True,\n",
    "  \"summary_model\": \"informative\",\n",
    "  \"summary_type\": \"bullets\"\n",
    "}\n",
    "\n",
    "# HTTP request headers\n",
    "headers={\n",
    "  \"Authorization\": YOUR_API_TOKEN,\n",
    "  \"Content-Type\": \"application/json\"\n",
    "}\n",
    "\n",
    "# submit for transcription via HTTP request\n",
    "response = requests.post(transcript_endpoint,\n",
    "                         json=data,\n",
    "                         headers=headers)\n",
    "\n",
    "# polling for transcription completion\n",
    "polling_endpoint = f\"https://api.assemblyai.com/v2/transcript/{response.json()['id']}\"\n",
    "\n",
    "while True:\n",
    "    transcription_result = requests.get(polling_endpoint, headers=headers).json()\n",
    "\n",
    "    if transcription_result['status'] == 'completed':\n",
    "        # print the results\n",
    "        print(json.dumps(transcription_result, indent=2))\n",
    "        break\n",
    "    elif transcription_result['status'] == 'error':\n",
    "        raise RuntimeError(f\"Transcription failed: {transcription_result['error']}\")\n",
    "    else:\n",
    "        time.sleep(3)"
   ]
  }
 ],
 "metadata": {
  "kernelspec": {
   "display_name": "scb",
   "language": "python",
   "name": "python3"
  },
  "language_info": {
   "codemirror_mode": {
    "name": "ipython",
    "version": 3
   },
   "file_extension": ".py",
   "mimetype": "text/x-python",
   "name": "python",
   "nbconvert_exporter": "python",
   "pygments_lexer": "ipython3",
   "version": "3.11.4"
  },
  "orig_nbformat": 4
 },
 "nbformat": 4,
 "nbformat_minor": 2
}
